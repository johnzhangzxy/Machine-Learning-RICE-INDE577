{
 "cells": [
  {
   "attachments": {},
   "cell_type": "markdown",
   "metadata": {},
   "source": [
    "---\n",
    "\n",
    "# The Use of Single Neuron Model\n",
    "\n",
    "## The Perceptron\n",
    "\n",
    "Baisc idea of how neural networks work:\n",
    "\n",
    "Single nuron model with the sign activation function is like using linear regression to classify data.\n",
    "By calculating the dot product of input variables and weight, we can  get the estimated value of output, and then we can use the sign function to get the predicted value of output.\n",
    "\n",
    "Moreover, by keep updateing the weight based on error, we will finally get a good weight to classify the data.\n",
    "\n",
    "Below is a picture of how perceptron works.\n",
    "\n",
    "\n",
    "\n",
    "The perceptron is a single neuron model with the *sign* activation function as depicted in the figure below.\n",
    "\n",
    "<p align=\"center\">\n",
    "    <img src=\"ThePerceptronImage.png\" width=\"500\">\n",
    "</p>\n",
    "\n",
    "\n",
    "For supplemental videos on this topic see:\n",
    "1. [Single Neuron Model and Perceptron Theory Video](https://www.youtube.com/watch?v=SmEKxsd_67w&t=1935s)\n",
    "2. [Implementing the Perceptron Code Video](https://www.youtube.com/watch?v=NpTfxpHlHJ4&t=1581s)\n",
    "\n",
    "---"
   ]
  },
  {
   "cell_type": "code",
   "execution_count": 1,
   "metadata": {},
   "outputs": [
    {
     "data": {
      "text/html": [
       "<div>\n",
       "<style scoped>\n",
       "    .dataframe tbody tr th:only-of-type {\n",
       "        vertical-align: middle;\n",
       "    }\n",
       "\n",
       "    .dataframe tbody tr th {\n",
       "        vertical-align: top;\n",
       "    }\n",
       "\n",
       "    .dataframe thead th {\n",
       "        text-align: right;\n",
       "    }\n",
       "</style>\n",
       "<table border=\"1\" class=\"dataframe\">\n",
       "  <thead>\n",
       "    <tr style=\"text-align: right;\">\n",
       "      <th></th>\n",
       "      <th>Unnamed: 0</th>\n",
       "      <th>species</th>\n",
       "      <th>island</th>\n",
       "      <th>bill_length_mm</th>\n",
       "      <th>bill_depth_mm</th>\n",
       "      <th>flipper_length_mm</th>\n",
       "      <th>body_mass_g</th>\n",
       "      <th>sex</th>\n",
       "    </tr>\n",
       "  </thead>\n",
       "  <tbody>\n",
       "    <tr>\n",
       "      <th>0</th>\n",
       "      <td>0</td>\n",
       "      <td>Adelie</td>\n",
       "      <td>Torgersen</td>\n",
       "      <td>39.1</td>\n",
       "      <td>18.7</td>\n",
       "      <td>181.0</td>\n",
       "      <td>3750.0</td>\n",
       "      <td>Male</td>\n",
       "    </tr>\n",
       "    <tr>\n",
       "      <th>1</th>\n",
       "      <td>1</td>\n",
       "      <td>Adelie</td>\n",
       "      <td>Torgersen</td>\n",
       "      <td>39.5</td>\n",
       "      <td>17.4</td>\n",
       "      <td>186.0</td>\n",
       "      <td>3800.0</td>\n",
       "      <td>Female</td>\n",
       "    </tr>\n",
       "    <tr>\n",
       "      <th>2</th>\n",
       "      <td>2</td>\n",
       "      <td>Adelie</td>\n",
       "      <td>Torgersen</td>\n",
       "      <td>40.3</td>\n",
       "      <td>18.0</td>\n",
       "      <td>195.0</td>\n",
       "      <td>3250.0</td>\n",
       "      <td>Female</td>\n",
       "    </tr>\n",
       "    <tr>\n",
       "      <th>3</th>\n",
       "      <td>3</td>\n",
       "      <td>Adelie</td>\n",
       "      <td>Torgersen</td>\n",
       "      <td>NaN</td>\n",
       "      <td>NaN</td>\n",
       "      <td>NaN</td>\n",
       "      <td>NaN</td>\n",
       "      <td>NaN</td>\n",
       "    </tr>\n",
       "    <tr>\n",
       "      <th>4</th>\n",
       "      <td>4</td>\n",
       "      <td>Adelie</td>\n",
       "      <td>Torgersen</td>\n",
       "      <td>36.7</td>\n",
       "      <td>19.3</td>\n",
       "      <td>193.0</td>\n",
       "      <td>3450.0</td>\n",
       "      <td>Female</td>\n",
       "    </tr>\n",
       "    <tr>\n",
       "      <th>5</th>\n",
       "      <td>5</td>\n",
       "      <td>Adelie</td>\n",
       "      <td>Torgersen</td>\n",
       "      <td>39.3</td>\n",
       "      <td>20.6</td>\n",
       "      <td>190.0</td>\n",
       "      <td>3650.0</td>\n",
       "      <td>Male</td>\n",
       "    </tr>\n",
       "    <tr>\n",
       "      <th>6</th>\n",
       "      <td>6</td>\n",
       "      <td>Adelie</td>\n",
       "      <td>Torgersen</td>\n",
       "      <td>38.9</td>\n",
       "      <td>17.8</td>\n",
       "      <td>181.0</td>\n",
       "      <td>3625.0</td>\n",
       "      <td>Female</td>\n",
       "    </tr>\n",
       "    <tr>\n",
       "      <th>7</th>\n",
       "      <td>7</td>\n",
       "      <td>Adelie</td>\n",
       "      <td>Torgersen</td>\n",
       "      <td>39.2</td>\n",
       "      <td>19.6</td>\n",
       "      <td>195.0</td>\n",
       "      <td>4675.0</td>\n",
       "      <td>Male</td>\n",
       "    </tr>\n",
       "    <tr>\n",
       "      <th>8</th>\n",
       "      <td>8</td>\n",
       "      <td>Adelie</td>\n",
       "      <td>Torgersen</td>\n",
       "      <td>34.1</td>\n",
       "      <td>18.1</td>\n",
       "      <td>193.0</td>\n",
       "      <td>3475.0</td>\n",
       "      <td>NaN</td>\n",
       "    </tr>\n",
       "    <tr>\n",
       "      <th>9</th>\n",
       "      <td>9</td>\n",
       "      <td>Adelie</td>\n",
       "      <td>Torgersen</td>\n",
       "      <td>42.0</td>\n",
       "      <td>20.2</td>\n",
       "      <td>190.0</td>\n",
       "      <td>4250.0</td>\n",
       "      <td>NaN</td>\n",
       "    </tr>\n",
       "  </tbody>\n",
       "</table>\n",
       "</div>"
      ],
      "text/plain": [
       "   Unnamed: 0 species     island  bill_length_mm  bill_depth_mm  \\\n",
       "0           0  Adelie  Torgersen            39.1           18.7   \n",
       "1           1  Adelie  Torgersen            39.5           17.4   \n",
       "2           2  Adelie  Torgersen            40.3           18.0   \n",
       "3           3  Adelie  Torgersen             NaN            NaN   \n",
       "4           4  Adelie  Torgersen            36.7           19.3   \n",
       "5           5  Adelie  Torgersen            39.3           20.6   \n",
       "6           6  Adelie  Torgersen            38.9           17.8   \n",
       "7           7  Adelie  Torgersen            39.2           19.6   \n",
       "8           8  Adelie  Torgersen            34.1           18.1   \n",
       "9           9  Adelie  Torgersen            42.0           20.2   \n",
       "\n",
       "   flipper_length_mm  body_mass_g     sex  \n",
       "0              181.0       3750.0    Male  \n",
       "1              186.0       3800.0  Female  \n",
       "2              195.0       3250.0  Female  \n",
       "3                NaN          NaN     NaN  \n",
       "4              193.0       3450.0  Female  \n",
       "5              190.0       3650.0    Male  \n",
       "6              181.0       3625.0  Female  \n",
       "7              195.0       4675.0    Male  \n",
       "8              193.0       3475.0     NaN  \n",
       "9              190.0       4250.0     NaN  "
      ]
     },
     "execution_count": 1,
     "metadata": {},
     "output_type": "execute_result"
    }
   ],
   "source": [
    "# %pip install mlxtend #for ploting \n",
    "\n",
    "import matplotlib.pyplot as plt\n",
    "import numpy as np\n",
    "import pandas as pd\n",
    "import seaborn as sns\n",
    "\n",
    "# Import a nice function for plotting decision boudaries\n",
    "from mlxtend.plotting import plot_decision_regions\n",
    "\n",
    "# Set the Seaborn theme\n",
    "sns.set_theme()\n",
    "\n",
    "# Read the iris dataset into a pandas DataFrame object\n",
    "df = pd.read_csv(\"Datasets/palmer_penguins.csv\")\n",
    "df.head(10)"
   ]
  },
  {
   "cell_type": "code",
   "execution_count": 3,
   "metadata": {
    "scrolled": true
   },
   "outputs": [],
   "source": [
    "df1=df[(df['species']=='Adelie') & (df['island']=='Torgersen')]\n",
    "\n",
    "df11 = df1.dropna()"
   ]
  },
  {
   "attachments": {},
   "cell_type": "markdown",
   "metadata": {},
   "source": [
    "---\n",
    "\n",
    "The Perceptron is suitable for binary classification problems, which is why I have decided to use it for the task at hand. Specifically, I will be using sex as the variable to implement and train the perceptron on. To narrow down the scope of the problem, I will be focusing on the adelie species and torgersen island as the base conditions.\n",
    "\n",
    "For this analysis, I will only consider two feature measurements: 'bill_depth_mm' and 'bill_length_mm'. In addition, it is necessary to convert the string values associated with each sex to numerical values. To achieve this, I will map \"male\" species to -1 and \"female\" species to 1.\n",
    "\n",
    "Moreover, to make the variable compare at same scale, I will normalize the data by deviding the value by the maximum value of the variable.\n",
    "\n",
    "---"
   ]
  },
  {
   "cell_type": "code",
   "execution_count": 17,
   "metadata": {},
   "outputs": [],
   "source": [
    "# Store the desired species values in the numpy array y\n",
    "y = df11.sex.values\n",
    "\n",
    "# Convert each entry of y with Male to -1 and Female as 1\n",
    "y = np.where(y == 'Male', -1, 1)\n",
    "\n",
    "# Store the desired feature measurements in the matrix X\n",
    "\n",
    "X1 = df11['bill_depth_mm'].values.reshape((-1,1))  # can use -1 as the length \n",
    "\n",
    "X2 = df11['body_mass_g'].values.reshape((len(X1),1))\n",
    "\n",
    "m1 = max(X1)\n",
    "m2 = max(X2)\n",
    "X1 = X1/m1   \n",
    "X2 = X2/m2\n",
    "X = np.hstack((X1,X2))\n",
    "\n",
    "#print(f'{X=}')\n",
    "#print(f'{y=}')"
   ]
  },
  {
   "attachments": {},
   "cell_type": "markdown",
   "metadata": {},
   "source": [
    "---\n",
    "Below is the custom python class for a single neuron model. The class has the following attributes:\n",
    "\n",
    "1. `weights` - the weights of the neuron\n",
    "2. `learning_rate` - the learning rate of the neuron\n",
    "\n",
    "The class has the following methods:\n",
    "\n",
    "1. `__init__` - the constructor for the class\n",
    "2. `predict` - the method that predicts the output of the neuron\n",
    "3. `train` - the method that trains the neuron\n",
    "\n",
    "---"
   ]
  },
  {
   "cell_type": "code",
   "execution_count": 6,
   "metadata": {},
   "outputs": [],
   "source": [
    "class Perceptron(object):\n",
    "    def __init__(self, eta = .5, epochs=50): \n",
    "        self.eta = eta\n",
    "        self.epochs = epochs\n",
    "        \n",
    "    def train(self, X, y): # this is a method under Perceptron class\n",
    "\n",
    "        self.w_ = np.random.rand(1 + X.shape[1]) # add a bias term, and generate 3 random weights for x and bias\n",
    "        \n",
    "        self.errors_ = []\n",
    "        \n",
    "        for _ in range(self.epochs): #numbers of iteration\n",
    "            errors = 0\n",
    "            for xi, target in zip(X, y): \n",
    "                update = self.eta * (self.predict(xi) - target)  # using update rule to change the weight for x \n",
    "                self.w_[:-1] -= update*xi # after update, calculate the new value for predict \n",
    "                self.w_[-1] -= update\n",
    "                errors += int(update != 0)\n",
    "            if errors == 0:\n",
    "                return self\n",
    "            else:\n",
    "                self.errors_.append(errors)\n",
    "            \n",
    "        return self\n",
    "    \n",
    "    def net_input(self, X):\n",
    "        return np.dot(X, self.w_[:-1]) + self.w_[-1]  # this is the value calculated \n",
    "    \n",
    "    def predict(self, X):\n",
    "        return np.where(self.net_input(X) >= 0.0, 1, -1) # after activation function \n"
   ]
  },
  {
   "attachments": {},
   "cell_type": "markdown",
   "metadata": {},
   "source": [
    "---\n",
    "\n",
    "Next we can instantiate an instance of the ```Perceptron``` class and also train this instance over 200 epochs.\n",
    "\n",
    "\n",
    "\n",
    "---"
   ]
  },
  {
   "cell_type": "code",
   "execution_count": 13,
   "metadata": {},
   "outputs": [
    {
     "data": {
      "text/plain": [
       "<__main__.Perceptron at 0x177ddfd60>"
      ]
     },
     "execution_count": 13,
     "metadata": {},
     "output_type": "execute_result"
    }
   ],
   "source": [
    "# Instantiate one instance of the Perceptron class\n",
    "percep = Perceptron(epochs=2_00) \n",
    " \n",
    "# Call the train method to train the weights and bias of the given instance\n",
    "percep.train(X, y)"
   ]
  },
  {
   "attachments": {},
   "cell_type": "markdown",
   "metadata": {},
   "source": [
    "---\n",
    "\n",
    "After training has finished we can call the ```Perceptron``` class ```predict``` method to view its current predictions given input features. \n",
    "\n",
    "---"
   ]
  },
  {
   "cell_type": "code",
   "execution_count": 14,
   "metadata": {},
   "outputs": [
    {
     "name": "stdout",
     "output_type": "stream",
     "text": [
      "[ True  True  True False  True  True  True  True  True  True  True False\n",
      "  True  True  True  True  True False  True  True  True  True  True  True\n",
      "  True  True  True  True  True False  True  True  True  True False  True\n",
      "  True  True  True  True  True  True  True  True  True  True  True]\n"
     ]
    }
   ],
   "source": [
    "# Predict labels on the features in X\n",
    "y_hat = percep.predict(X)\n",
    "\n",
    "# Compare y_hat and y\n",
    "print(y ==  y_hat)"
   ]
  },
  {
   "attachments": {},
   "cell_type": "markdown",
   "metadata": {},
   "source": [
    "---\n",
    "\n",
    "As we can see from the output of the code above, the predicted values have matched the true values on the given data. We can visualize this in the Euclidian plane by calling the ```plot_decision_regions``` function imported at the top of this notebook. This function will scatter the  data in the plane and also show the regions of space where a given point will be classified either -1 or 1. But the x and y are in the normalized scale, it showed how the data have been classified by the perceptron.\n",
    "\n",
    "From the error plot, we can see that the error is decreasing as the number of epochs increases. The error is 0 when the number of epochs is 200, which means the perceptron has been trained well.\n",
    "\n",
    "\n",
    "---"
   ]
  },
  {
   "cell_type": "code",
   "execution_count": 18,
   "metadata": {},
   "outputs": [
    {
     "data": {
      "text/plain": [
       "<matplotlib.legend.Legend at 0x28f0451e0>"
      ]
     },
     "execution_count": 18,
     "metadata": {},
     "output_type": "execute_result"
    },
    {
     "data": {
      "image/png": "[encoded data removed]",
      "text/plain": [
       "<Figure size 1000x500 with 2 Axes>"
      ]
     },
     "metadata": {},
     "output_type": "display_data"
    }
   ],
   "source": [
    "plt.figure(figsize = (10, 5))\n",
    "\n",
    "\n",
    "plt.subplot(1,2,1)\n",
    "plot_decision_regions(X, y, clf = percep)\n",
    "plt.xlabel(\"bill_depth_mm\", fontsize = 15)\n",
    "plt.ylabel(\"bill_length_mm\", fontsize = 15)\n",
    "plt.title('Perceptron to Sepreat Sex',fontsize = 16)\n",
    "\n",
    "plt.subplot(1,2,2)\n",
    "#plt.figure(figsize = (10, 8))\n",
    "plt.plot(range(1, len(percep.errors_)+1), percep.errors_, \n",
    "         marker = \"o\",\n",
    "         label = \"error plot\",)\n",
    "plt.xlabel(\"Iterations\")\n",
    "plt.ylabel(\"Missclassifications\")\n",
    "plt.title(\"Error Plot\", fontsize = 16)\n",
    "plt.legend()\n"
   ]
  },
  {
   "attachments": {},
   "cell_type": "markdown",
   "metadata": {},
   "source": [
    "---\n",
    "\n",
    "# Conclusion \n",
    "\n",
    "This is the basic idea for clasiifying data by using single neuron model. The perceptron is a single neuron model with the sign activation function. By calculating the dot product of input variables and weight, we can  get the estimated value of output, and then we can use the sign function to get the predicted value of output. Moreover, by keep updateing the weight based on error, we will finally get a good weight to classify the data.\n",
    "\n",
    "\n",
    "---"
   ]
  }
 ],
 "metadata": {
  "kernelspec": {
   "display_name": "Python 3 (ipykernel)",
   "language": "python",
   "name": "python3"
  },
  "language_info": {
   "codemirror_mode": {
    "name": "ipython",
    "version": 3
   },
   "file_extension": ".py",
   "mimetype": "text/x-python",
   "name": "python",
   "nbconvert_exporter": "python",
   "pygments_lexer": "ipython3",
   "version": "3.10.9"
  }
 },
 "nbformat": 4,
 "nbformat_minor": 4
}
